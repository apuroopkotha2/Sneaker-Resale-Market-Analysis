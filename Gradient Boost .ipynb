{
 "cells": [
  {
   "cell_type": "markdown",
   "id": "8c48d635",
   "metadata": {},
   "source": [
    "##### This notebook is the model built by using Gradient Boost, to predict the Flag category of the top 25% SKU's from the dataset, the output is 99.9% accuracy. "
   ]
  },
  {
   "cell_type": "code",
   "execution_count": 1,
   "id": "4cea3326",
   "metadata": {},
   "outputs": [],
   "source": [
    "# basic import statements\n",
    "import os\n",
    "import re\n",
    "import gc\n",
    "import warnings\n",
    "import numpy as np\n",
    "import pandas as pd\n",
    "import matplotlib.pyplot as plt\n",
    "import seaborn as sns\n",
    "import collections\n",
    "warnings.filterwarnings(\"ignore\")\n",
    "from datetime import date \n",
    "\n",
    "#set max display in notebook\n",
    "pd.set_option('display.max_rows', 500)\n",
    "pd.set_option('display.max_columns', 500)\n",
    "pd.set_option('display.width', 1000)\n",
    "\n",
    "#Show multiple output in console\n",
    "from IPython.core.interactiveshell import InteractiveShell\n",
    "InteractiveShell.ast_node_interactivity = 'all'"
   ]
  },
  {
   "cell_type": "code",
   "execution_count": 2,
   "id": "42a1411c",
   "metadata": {},
   "outputs": [
    {
     "data": {
      "text/plain": [
       "(6171281, 22)"
      ]
     },
     "execution_count": 2,
     "metadata": {},
     "output_type": "execute_result"
    },
    {
     "data": {
      "text/plain": [
       "sku                       object\n",
       "condition                 object\n",
       "size                      object\n",
       "gender                    object\n",
       "sold_at                   object\n",
       "sold_price               float64\n",
       "source                    object\n",
       "size_value               float64\n",
       "brand                     object\n",
       "name                      object\n",
       "colorway                  object\n",
       "color                     object\n",
       "silhouette                object\n",
       "retailprice              float64\n",
       "releasedate               object\n",
       "is_collab                 object\n",
       "collaborator              object\n",
       "quarter                  float64\n",
       "average_sold_price       float64\n",
       "sku_count                float64\n",
       "percentage_difference    float64\n",
       "resale_flag               object\n",
       "dtype: object"
      ]
     },
     "execution_count": 2,
     "metadata": {},
     "output_type": "execute_result"
    },
    {
     "data": {
      "text/html": [
       "<div>\n",
       "<style scoped>\n",
       "    .dataframe tbody tr th:only-of-type {\n",
       "        vertical-align: middle;\n",
       "    }\n",
       "\n",
       "    .dataframe tbody tr th {\n",
       "        vertical-align: top;\n",
       "    }\n",
       "\n",
       "    .dataframe thead th {\n",
       "        text-align: right;\n",
       "    }\n",
       "</style>\n",
       "<table border=\"1\" class=\"dataframe\">\n",
       "  <thead>\n",
       "    <tr style=\"text-align: right;\">\n",
       "      <th></th>\n",
       "      <th>sku</th>\n",
       "      <th>condition</th>\n",
       "      <th>size</th>\n",
       "      <th>gender</th>\n",
       "      <th>sold_at</th>\n",
       "      <th>sold_price</th>\n",
       "      <th>source</th>\n",
       "      <th>size_value</th>\n",
       "      <th>brand</th>\n",
       "      <th>name</th>\n",
       "      <th>colorway</th>\n",
       "      <th>color</th>\n",
       "      <th>silhouette</th>\n",
       "      <th>retailprice</th>\n",
       "      <th>releasedate</th>\n",
       "      <th>is_collab</th>\n",
       "      <th>collaborator</th>\n",
       "      <th>quarter</th>\n",
       "      <th>average_sold_price</th>\n",
       "      <th>sku_count</th>\n",
       "      <th>percentage_difference</th>\n",
       "      <th>resale_flag</th>\n",
       "    </tr>\n",
       "  </thead>\n",
       "  <tbody>\n",
       "    <tr>\n",
       "      <th>0</th>\n",
       "      <td>DD1399-101</td>\n",
       "      <td>is_new</td>\n",
       "      <td>7.5</td>\n",
       "      <td>men</td>\n",
       "      <td>2021-12-13</td>\n",
       "      <td>236.0</td>\n",
       "      <td>stockx</td>\n",
       "      <td>7.5</td>\n",
       "      <td>Nike</td>\n",
       "      <td>Nike Dunk High Syracuse (2021)</td>\n",
       "      <td>White/Orange Blaze</td>\n",
       "      <td>white</td>\n",
       "      <td>Dunk</td>\n",
       "      <td>110.0</td>\n",
       "      <td>2021-03-10</td>\n",
       "      <td>False</td>\n",
       "      <td>NaN</td>\n",
       "      <td>4.0</td>\n",
       "      <td>197.367568</td>\n",
       "      <td>2.0</td>\n",
       "      <td>79.425061</td>\n",
       "      <td>Substantial Resale Premium</td>\n",
       "    </tr>\n",
       "    <tr>\n",
       "      <th>1</th>\n",
       "      <td>BQ7666-100</td>\n",
       "      <td>is_new</td>\n",
       "      <td>10</td>\n",
       "      <td>men</td>\n",
       "      <td>2021-07-12</td>\n",
       "      <td>169.0</td>\n",
       "      <td>stockx</td>\n",
       "      <td>10.0</td>\n",
       "      <td>Jordan</td>\n",
       "      <td>Jordan 8 SP Retro SE White Multicolor</td>\n",
       "      <td>White/Black-Red Orbit</td>\n",
       "      <td>white</td>\n",
       "      <td>Air Jordan 8</td>\n",
       "      <td>225.0</td>\n",
       "      <td>2019-09-18</td>\n",
       "      <td>False</td>\n",
       "      <td>NaN</td>\n",
       "      <td>3.0</td>\n",
       "      <td>160.363636</td>\n",
       "      <td>280.0</td>\n",
       "      <td>-28.727273</td>\n",
       "      <td>Discounted Resale</td>\n",
       "    </tr>\n",
       "    <tr>\n",
       "      <th>2</th>\n",
       "      <td>CK7214-100</td>\n",
       "      <td>is_new</td>\n",
       "      <td>11.5</td>\n",
       "      <td>men</td>\n",
       "      <td>2021-08-02</td>\n",
       "      <td>140.0</td>\n",
       "      <td>stockx</td>\n",
       "      <td>11.5</td>\n",
       "      <td>Nike</td>\n",
       "      <td>Nike Air Force 1 Low '07 LV8 White</td>\n",
       "      <td>White/White/White</td>\n",
       "      <td>white</td>\n",
       "      <td>Air Force 1</td>\n",
       "      <td>110.0</td>\n",
       "      <td>2020-07-20</td>\n",
       "      <td>False</td>\n",
       "      <td>NaN</td>\n",
       "      <td>3.0</td>\n",
       "      <td>120.000000</td>\n",
       "      <td>12.0</td>\n",
       "      <td>9.090909</td>\n",
       "      <td>Negligible Resale Premium</td>\n",
       "    </tr>\n",
       "    <tr>\n",
       "      <th>3</th>\n",
       "      <td>BQ6806-115</td>\n",
       "      <td>is_new</td>\n",
       "      <td>7</td>\n",
       "      <td>men</td>\n",
       "      <td>2021-06-21</td>\n",
       "      <td>123.0</td>\n",
       "      <td>stockx</td>\n",
       "      <td>7.0</td>\n",
       "      <td>Nike</td>\n",
       "      <td>Nike Blazer Mid 77 Vintage Pine Green</td>\n",
       "      <td>White/Pine Green</td>\n",
       "      <td>white</td>\n",
       "      <td>Blazer</td>\n",
       "      <td>100.0</td>\n",
       "      <td>2021-01-22</td>\n",
       "      <td>False</td>\n",
       "      <td>NaN</td>\n",
       "      <td>2.0</td>\n",
       "      <td>118.636364</td>\n",
       "      <td>49.0</td>\n",
       "      <td>18.636364</td>\n",
       "      <td>Negligible Resale Premium</td>\n",
       "    </tr>\n",
       "    <tr>\n",
       "      <th>4</th>\n",
       "      <td>DD9678-100</td>\n",
       "      <td>is_new</td>\n",
       "      <td>10</td>\n",
       "      <td>men</td>\n",
       "      <td>NaN</td>\n",
       "      <td>133.0</td>\n",
       "      <td>alias</td>\n",
       "      <td>10.0</td>\n",
       "      <td>Nike</td>\n",
       "      <td>Nike Air Max 90 Burlap</td>\n",
       "      <td>White/Cream-Burlap</td>\n",
       "      <td>cream</td>\n",
       "      <td>Air Max 90</td>\n",
       "      <td>120.0</td>\n",
       "      <td>2021-03-09</td>\n",
       "      <td>False</td>\n",
       "      <td>NaN</td>\n",
       "      <td>NaN</td>\n",
       "      <td>NaN</td>\n",
       "      <td>NaN</td>\n",
       "      <td>NaN</td>\n",
       "      <td>NaN</td>\n",
       "    </tr>\n",
       "  </tbody>\n",
       "</table>\n",
       "</div>"
      ],
      "text/plain": [
       "          sku condition  size gender     sold_at  sold_price  source  size_value   brand                                   name               colorway  color    silhouette  retailprice releasedate is_collab collaborator  quarter  average_sold_price  sku_count  percentage_difference                 resale_flag\n",
       "0  DD1399-101    is_new   7.5    men  2021-12-13       236.0  stockx         7.5    Nike         Nike Dunk High Syracuse (2021)     White/Orange Blaze  white          Dunk        110.0  2021-03-10     False          NaN      4.0          197.367568        2.0              79.425061  Substantial Resale Premium\n",
       "1  BQ7666-100    is_new    10    men  2021-07-12       169.0  stockx        10.0  Jordan  Jordan 8 SP Retro SE White Multicolor  White/Black-Red Orbit  white  Air Jordan 8        225.0  2019-09-18     False          NaN      3.0          160.363636      280.0             -28.727273           Discounted Resale\n",
       "2  CK7214-100    is_new  11.5    men  2021-08-02       140.0  stockx        11.5    Nike     Nike Air Force 1 Low '07 LV8 White      White/White/White  white   Air Force 1        110.0  2020-07-20     False          NaN      3.0          120.000000       12.0               9.090909   Negligible Resale Premium\n",
       "3  BQ6806-115    is_new     7    men  2021-06-21       123.0  stockx         7.0    Nike  Nike Blazer Mid 77 Vintage Pine Green       White/Pine Green  white        Blazer        100.0  2021-01-22     False          NaN      2.0          118.636364       49.0              18.636364   Negligible Resale Premium\n",
       "4  DD9678-100    is_new    10    men         NaN       133.0   alias        10.0    Nike                 Nike Air Max 90 Burlap     White/Cream-Burlap  cream    Air Max 90        120.0  2021-03-09     False          NaN      NaN                 NaN        NaN                    NaN                         NaN"
      ]
     },
     "execution_count": 2,
     "metadata": {},
     "output_type": "execute_result"
    }
   ],
   "source": [
    "# Import the Dataset of top 25% of the SKU's \n",
    "df = pd.read_csv('new_data_analysed_top25%.csv')\n",
    "df.shape\n",
    "df.dtypes\n",
    "df.head()"
   ]
  },
  {
   "cell_type": "code",
   "execution_count": 3,
   "id": "3a1f3b49",
   "metadata": {},
   "outputs": [
    {
     "data": {
      "text/plain": [
       "sku                              object\n",
       "condition                        object\n",
       "size                             object\n",
       "gender                           object\n",
       "sold_at                  datetime64[ns]\n",
       "sold_price                      float64\n",
       "source                           object\n",
       "size_value                      float64\n",
       "brand                            object\n",
       "name                             object\n",
       "colorway                         object\n",
       "color                            object\n",
       "silhouette                       object\n",
       "retailprice                     float64\n",
       "releasedate                      object\n",
       "is_collab                        object\n",
       "collaborator                     object\n",
       "quarter                         float64\n",
       "average_sold_price              float64\n",
       "sku_count                       float64\n",
       "percentage_difference           float64\n",
       "resale_flag                      object\n",
       "dtype: object"
      ]
     },
     "execution_count": 3,
     "metadata": {},
     "output_type": "execute_result"
    }
   ],
   "source": [
    "# convert sold_at to date format\n",
    "df['sold_at'] = pd.to_datetime(df['sold_at'], format='%Y-%m-%d', errors='coerce')\n",
    "df.dtypes"
   ]
  },
  {
   "cell_type": "markdown",
   "id": "b84bee12",
   "metadata": {},
   "source": [
    "### Gradient Boost"
   ]
  },
  {
   "cell_type": "code",
   "execution_count": 45,
   "id": "5416aa91",
   "metadata": {},
   "outputs": [],
   "source": [
    "from sklearn.model_selection import train_test_split\n",
    "from sklearn.preprocessing import StandardScaler, OneHotEncoder\n",
    "from sklearn.impute import SimpleImputer\n",
    "from sklearn.compose import ColumnTransformer\n",
    "from sklearn.pipeline import Pipeline\n",
    "from sklearn.ensemble import GradientBoostingClassifier\n",
    "from sklearn.metrics import accuracy_score"
   ]
  },
  {
   "cell_type": "code",
   "execution_count": 70,
   "id": "967e8b6f",
   "metadata": {},
   "outputs": [],
   "source": [
    "X = df.dropna(subset=['resale_flag'])\n",
    "y = X['resale_flag']\n",
    "X = X.drop(columns=['resale_flag'])"
   ]
  },
  {
   "cell_type": "code",
   "execution_count": 57,
   "id": "e3bece12",
   "metadata": {},
   "outputs": [],
   "source": [
    "# Define numerical and categorical features\n",
    "numerical_features = ['sold_price', 'retailprice', 'quarter', 'average_sold_price', 'percentage_difference','size_value']\n",
    "categorical_features = ['condition', 'gender', 'brand']"
   ]
  },
  {
   "cell_type": "code",
   "execution_count": 71,
   "id": "7e521c6f",
   "metadata": {},
   "outputs": [],
   "source": [
    "# Step 1: Handling missing values in X (Features)\n",
    "# Define numerical and categorical features in X\n",
    "X_numerical = X[numerical_features]\n",
    "X_categorical = X[categorical_features]"
   ]
  },
  {
   "cell_type": "code",
   "execution_count": 72,
   "id": "1eec8196",
   "metadata": {},
   "outputs": [],
   "source": [
    "# Preprocessing for numerical features in X\n",
    "numerical_transformer = Pipeline(steps=[\n",
    "    ('imputer', SimpleImputer(strategy='mean')),\n",
    "    ('scaler', StandardScaler())\n",
    "])"
   ]
  },
  {
   "cell_type": "code",
   "execution_count": 73,
   "id": "e560f0aa",
   "metadata": {},
   "outputs": [],
   "source": [
    "# Preprocessing for categorical features in X\n",
    "categorical_transformer = Pipeline(steps=[\n",
    "    ('imputer', SimpleImputer(strategy='most_frequent')),\n",
    "    ('onehot', OneHotEncoder(handle_unknown='ignore'))\n",
    "])"
   ]
  },
  {
   "cell_type": "code",
   "execution_count": 74,
   "id": "d4f7ae23",
   "metadata": {},
   "outputs": [],
   "source": [
    "# Combine preprocessing for numerical and categorical features in X\n",
    "preprocessor_X = ColumnTransformer(\n",
    "    transformers=[\n",
    "        ('num', numerical_transformer, numerical_features),\n",
    "        ('cat', categorical_transformer, categorical_features)\n",
    "    ])"
   ]
  },
  {
   "cell_type": "code",
   "execution_count": 62,
   "id": "6de7524b",
   "metadata": {},
   "outputs": [],
   "source": [
    "y_encoded = pd.get_dummies(y)"
   ]
  },
  {
   "cell_type": "code",
   "execution_count": 64,
   "id": "e74daba7",
   "metadata": {},
   "outputs": [
    {
     "data": {
      "text/html": [
       "<div>\n",
       "<style scoped>\n",
       "    .dataframe tbody tr th:only-of-type {\n",
       "        vertical-align: middle;\n",
       "    }\n",
       "\n",
       "    .dataframe tbody tr th {\n",
       "        vertical-align: top;\n",
       "    }\n",
       "\n",
       "    .dataframe thead th {\n",
       "        text-align: right;\n",
       "    }\n",
       "</style>\n",
       "<table border=\"1\" class=\"dataframe\">\n",
       "  <thead>\n",
       "    <tr style=\"text-align: right;\">\n",
       "      <th></th>\n",
       "      <th>Discounted Resale</th>\n",
       "      <th>Exceptional Resale Premium</th>\n",
       "      <th>Mild Resale Premium</th>\n",
       "      <th>Moderate Resale Premium</th>\n",
       "      <th>Negligible Resale Premium</th>\n",
       "      <th>Retail Price Resale</th>\n",
       "      <th>Substantial Resale Premium</th>\n",
       "      <th>Unknown</th>\n",
       "    </tr>\n",
       "  </thead>\n",
       "  <tbody>\n",
       "    <tr>\n",
       "      <th>0</th>\n",
       "      <td>False</td>\n",
       "      <td>False</td>\n",
       "      <td>False</td>\n",
       "      <td>False</td>\n",
       "      <td>False</td>\n",
       "      <td>False</td>\n",
       "      <td>True</td>\n",
       "      <td>False</td>\n",
       "    </tr>\n",
       "    <tr>\n",
       "      <th>1</th>\n",
       "      <td>True</td>\n",
       "      <td>False</td>\n",
       "      <td>False</td>\n",
       "      <td>False</td>\n",
       "      <td>False</td>\n",
       "      <td>False</td>\n",
       "      <td>False</td>\n",
       "      <td>False</td>\n",
       "    </tr>\n",
       "    <tr>\n",
       "      <th>2</th>\n",
       "      <td>False</td>\n",
       "      <td>False</td>\n",
       "      <td>False</td>\n",
       "      <td>False</td>\n",
       "      <td>True</td>\n",
       "      <td>False</td>\n",
       "      <td>False</td>\n",
       "      <td>False</td>\n",
       "    </tr>\n",
       "    <tr>\n",
       "      <th>3</th>\n",
       "      <td>False</td>\n",
       "      <td>False</td>\n",
       "      <td>False</td>\n",
       "      <td>False</td>\n",
       "      <td>True</td>\n",
       "      <td>False</td>\n",
       "      <td>False</td>\n",
       "      <td>False</td>\n",
       "    </tr>\n",
       "    <tr>\n",
       "      <th>4</th>\n",
       "      <td>False</td>\n",
       "      <td>False</td>\n",
       "      <td>False</td>\n",
       "      <td>False</td>\n",
       "      <td>False</td>\n",
       "      <td>False</td>\n",
       "      <td>False</td>\n",
       "      <td>False</td>\n",
       "    </tr>\n",
       "    <tr>\n",
       "      <th>...</th>\n",
       "      <td>...</td>\n",
       "      <td>...</td>\n",
       "      <td>...</td>\n",
       "      <td>...</td>\n",
       "      <td>...</td>\n",
       "      <td>...</td>\n",
       "      <td>...</td>\n",
       "      <td>...</td>\n",
       "    </tr>\n",
       "    <tr>\n",
       "      <th>6171276</th>\n",
       "      <td>False</td>\n",
       "      <td>False</td>\n",
       "      <td>False</td>\n",
       "      <td>True</td>\n",
       "      <td>False</td>\n",
       "      <td>False</td>\n",
       "      <td>False</td>\n",
       "      <td>False</td>\n",
       "    </tr>\n",
       "    <tr>\n",
       "      <th>6171277</th>\n",
       "      <td>False</td>\n",
       "      <td>False</td>\n",
       "      <td>True</td>\n",
       "      <td>False</td>\n",
       "      <td>False</td>\n",
       "      <td>False</td>\n",
       "      <td>False</td>\n",
       "      <td>False</td>\n",
       "    </tr>\n",
       "    <tr>\n",
       "      <th>6171278</th>\n",
       "      <td>True</td>\n",
       "      <td>False</td>\n",
       "      <td>False</td>\n",
       "      <td>False</td>\n",
       "      <td>False</td>\n",
       "      <td>False</td>\n",
       "      <td>False</td>\n",
       "      <td>False</td>\n",
       "    </tr>\n",
       "    <tr>\n",
       "      <th>6171279</th>\n",
       "      <td>True</td>\n",
       "      <td>False</td>\n",
       "      <td>False</td>\n",
       "      <td>False</td>\n",
       "      <td>False</td>\n",
       "      <td>False</td>\n",
       "      <td>False</td>\n",
       "      <td>False</td>\n",
       "    </tr>\n",
       "    <tr>\n",
       "      <th>6171280</th>\n",
       "      <td>False</td>\n",
       "      <td>False</td>\n",
       "      <td>True</td>\n",
       "      <td>False</td>\n",
       "      <td>False</td>\n",
       "      <td>False</td>\n",
       "      <td>False</td>\n",
       "      <td>False</td>\n",
       "    </tr>\n",
       "  </tbody>\n",
       "</table>\n",
       "<p>6171281 rows × 8 columns</p>\n",
       "</div>"
      ],
      "text/plain": [
       "         Discounted Resale  Exceptional Resale Premium  Mild Resale Premium  Moderate Resale Premium  Negligible Resale Premium  Retail Price Resale  Substantial Resale Premium  Unknown\n",
       "0                    False                       False                False                    False                      False                False                        True    False\n",
       "1                     True                       False                False                    False                      False                False                       False    False\n",
       "2                    False                       False                False                    False                       True                False                       False    False\n",
       "3                    False                       False                False                    False                       True                False                       False    False\n",
       "4                    False                       False                False                    False                      False                False                       False    False\n",
       "...                    ...                         ...                  ...                      ...                        ...                  ...                         ...      ...\n",
       "6171276              False                       False                False                     True                      False                False                       False    False\n",
       "6171277              False                       False                 True                    False                      False                False                       False    False\n",
       "6171278               True                       False                False                    False                      False                False                       False    False\n",
       "6171279               True                       False                False                    False                      False                False                       False    False\n",
       "6171280              False                       False                 True                    False                      False                False                       False    False\n",
       "\n",
       "[6171281 rows x 8 columns]"
      ]
     },
     "execution_count": 64,
     "metadata": {},
     "output_type": "execute_result"
    }
   ],
   "source": [
    "y_encoded"
   ]
  },
  {
   "cell_type": "code",
   "execution_count": 75,
   "id": "ef9b7582",
   "metadata": {},
   "outputs": [],
   "source": [
    "#  Split the data into training and testing sets\n",
    "X_train, X_test, y_train, y_test = train_test_split(X, y, test_size=0.2, random_state=42)"
   ]
  },
  {
   "cell_type": "code",
   "execution_count": 66,
   "id": "bfe0c09f",
   "metadata": {},
   "outputs": [],
   "source": [
    "# Initialize the GradientBoostingClassifier\n",
    "model = GradientBoostingClassifier()"
   ]
  },
  {
   "cell_type": "code",
   "execution_count": 76,
   "id": "e34f7f9e",
   "metadata": {},
   "outputs": [
    {
     "data": {
      "text/html": [
       "<style>#sk-container-id-4 {color: black;}#sk-container-id-4 pre{padding: 0;}#sk-container-id-4 div.sk-toggleable {background-color: white;}#sk-container-id-4 label.sk-toggleable__label {cursor: pointer;display: block;width: 100%;margin-bottom: 0;padding: 0.3em;box-sizing: border-box;text-align: center;}#sk-container-id-4 label.sk-toggleable__label-arrow:before {content: \"▸\";float: left;margin-right: 0.25em;color: #696969;}#sk-container-id-4 label.sk-toggleable__label-arrow:hover:before {color: black;}#sk-container-id-4 div.sk-estimator:hover label.sk-toggleable__label-arrow:before {color: black;}#sk-container-id-4 div.sk-toggleable__content {max-height: 0;max-width: 0;overflow: hidden;text-align: left;background-color: #f0f8ff;}#sk-container-id-4 div.sk-toggleable__content pre {margin: 0.2em;color: black;border-radius: 0.25em;background-color: #f0f8ff;}#sk-container-id-4 input.sk-toggleable__control:checked~div.sk-toggleable__content {max-height: 200px;max-width: 100%;overflow: auto;}#sk-container-id-4 input.sk-toggleable__control:checked~label.sk-toggleable__label-arrow:before {content: \"▾\";}#sk-container-id-4 div.sk-estimator input.sk-toggleable__control:checked~label.sk-toggleable__label {background-color: #d4ebff;}#sk-container-id-4 div.sk-label input.sk-toggleable__control:checked~label.sk-toggleable__label {background-color: #d4ebff;}#sk-container-id-4 input.sk-hidden--visually {border: 0;clip: rect(1px 1px 1px 1px);clip: rect(1px, 1px, 1px, 1px);height: 1px;margin: -1px;overflow: hidden;padding: 0;position: absolute;width: 1px;}#sk-container-id-4 div.sk-estimator {font-family: monospace;background-color: #f0f8ff;border: 1px dotted black;border-radius: 0.25em;box-sizing: border-box;margin-bottom: 0.5em;}#sk-container-id-4 div.sk-estimator:hover {background-color: #d4ebff;}#sk-container-id-4 div.sk-parallel-item::after {content: \"\";width: 100%;border-bottom: 1px solid gray;flex-grow: 1;}#sk-container-id-4 div.sk-label:hover label.sk-toggleable__label {background-color: #d4ebff;}#sk-container-id-4 div.sk-serial::before {content: \"\";position: absolute;border-left: 1px solid gray;box-sizing: border-box;top: 0;bottom: 0;left: 50%;z-index: 0;}#sk-container-id-4 div.sk-serial {display: flex;flex-direction: column;align-items: center;background-color: white;padding-right: 0.2em;padding-left: 0.2em;position: relative;}#sk-container-id-4 div.sk-item {position: relative;z-index: 1;}#sk-container-id-4 div.sk-parallel {display: flex;align-items: stretch;justify-content: center;background-color: white;position: relative;}#sk-container-id-4 div.sk-item::before, #sk-container-id-4 div.sk-parallel-item::before {content: \"\";position: absolute;border-left: 1px solid gray;box-sizing: border-box;top: 0;bottom: 0;left: 50%;z-index: -1;}#sk-container-id-4 div.sk-parallel-item {display: flex;flex-direction: column;z-index: 1;position: relative;background-color: white;}#sk-container-id-4 div.sk-parallel-item:first-child::after {align-self: flex-end;width: 50%;}#sk-container-id-4 div.sk-parallel-item:last-child::after {align-self: flex-start;width: 50%;}#sk-container-id-4 div.sk-parallel-item:only-child::after {width: 0;}#sk-container-id-4 div.sk-dashed-wrapped {border: 1px dashed gray;margin: 0 0.4em 0.5em 0.4em;box-sizing: border-box;padding-bottom: 0.4em;background-color: white;}#sk-container-id-4 div.sk-label label {font-family: monospace;font-weight: bold;display: inline-block;line-height: 1.2em;}#sk-container-id-4 div.sk-label-container {text-align: center;}#sk-container-id-4 div.sk-container {/* jupyter's `normalize.less` sets `[hidden] { display: none; }` but bootstrap.min.css set `[hidden] { display: none !important; }` so we also need the `!important` here to be able to override the default hidden behavior on the sphinx rendered scikit-learn.org. See: https://github.com/scikit-learn/scikit-learn/issues/21755 */display: inline-block !important;position: relative;}#sk-container-id-4 div.sk-text-repr-fallback {display: none;}</style><div id=\"sk-container-id-4\" class=\"sk-top-container\"><div class=\"sk-text-repr-fallback\"><pre>GradientBoostingClassifier()</pre><b>In a Jupyter environment, please rerun this cell to show the HTML representation or trust the notebook. <br />On GitHub, the HTML representation is unable to render, please try loading this page with nbviewer.org.</b></div><div class=\"sk-container\" hidden><div class=\"sk-item\"><div class=\"sk-estimator sk-toggleable\"><input class=\"sk-toggleable__control sk-hidden--visually\" id=\"sk-estimator-id-4\" type=\"checkbox\" checked><label for=\"sk-estimator-id-4\" class=\"sk-toggleable__label sk-toggleable__label-arrow\">GradientBoostingClassifier</label><div class=\"sk-toggleable__content\"><pre>GradientBoostingClassifier()</pre></div></div></div></div></div>"
      ],
      "text/plain": [
       "GradientBoostingClassifier()"
      ]
     },
     "execution_count": 76,
     "metadata": {},
     "output_type": "execute_result"
    }
   ],
   "source": [
    "# Fit the model using preprocessed X_train and y_train data\n",
    "model.fit(preprocessor_X.fit_transform(X_train), y_train)"
   ]
  },
  {
   "cell_type": "code",
   "execution_count": 77,
   "id": "4a17800c",
   "metadata": {},
   "outputs": [],
   "source": [
    "y_pred = model.predict(preprocessor_X.transform(X_test))"
   ]
  },
  {
   "cell_type": "code",
   "execution_count": 78,
   "id": "e66b4cbf",
   "metadata": {},
   "outputs": [
    {
     "name": "stdout",
     "output_type": "stream",
     "text": [
      "Accuracy: 0.9999834149577569\n"
     ]
    }
   ],
   "source": [
    "# Evaluate the model performance\n",
    "accuracy = accuracy_score(y_test, y_pred)\n",
    "\n",
    "print(\"Accuracy:\", accuracy)"
   ]
  },
  {
   "cell_type": "code",
   "execution_count": 79,
   "id": "acc69cde",
   "metadata": {},
   "outputs": [
    {
     "data": {
      "text/plain": [
       "<Figure size 1000x600 with 0 Axes>"
      ]
     },
     "execution_count": 79,
     "metadata": {},
     "output_type": "execute_result"
    },
    {
     "data": {
      "text/plain": [
       "<Axes: xlabel='Actual', ylabel='Predicted'>"
      ]
     },
     "execution_count": 79,
     "metadata": {},
     "output_type": "execute_result"
    },
    {
     "data": {
      "text/plain": [
       "Text(0.5, 1.0, 'Actual vs. Predicted Sold Price')"
      ]
     },
     "execution_count": 79,
     "metadata": {},
     "output_type": "execute_result"
    },
    {
     "data": {
      "text/plain": [
       "Text(0.5, 0, 'Actual Sold Price')"
      ]
     },
     "execution_count": 79,
     "metadata": {},
     "output_type": "execute_result"
    },
    {
     "data": {
      "text/plain": [
       "Text(0, 0.5, 'Predicted Sold Price')"
      ]
     },
     "execution_count": 79,
     "metadata": {},
     "output_type": "execute_result"
    },
    {
     "data": {
      "image/png": "[encoded data removed]",
      "text/plain": [
       "<Figure size 1000x600 with 1 Axes>"
      ]
     },
     "metadata": {},
     "output_type": "display_data"
    }
   ],
   "source": [
    "import matplotlib.pyplot as plt\n",
    "import seaborn as sns\n",
    "from sklearn.metrics import accuracy_score\n",
    "\n",
    "# Assuming preprocessor_X is your data preprocessor\n",
    "# Assuming X_test and y_test are your test dataset and corresponding target values\n",
    "# Assuming y_pred contains the predicted values\n",
    "\n",
    "# Make predictions on the test set\n",
    "y_pred = model.predict(preprocessor_X.transform(X_test))\n",
    "\n",
    "# Create a DataFrame containing the actual and predicted values for soldprice\n",
    "results_df = pd.DataFrame({'Actual': y_test, 'Predicted': y_pred})\n",
    "\n",
    "# Plot actual vs. predicted values\n",
    "plt.figure(figsize=(10, 10))\n",
    "sns.scatterplot(data=results_df, x='Actual', y='Predicted')\n",
    "plt.title('Actual vs. Predicted Sold Price')\n",
    "plt.xlabel('Actual Sold Price')\n",
    "plt.ylabel('Predicted Sold Price')\n",
    "plt.show()"
   ]
  },
  {
   "cell_type": "code",
   "execution_count": 80,
   "id": "610d3ea9",
   "metadata": {},
   "outputs": [
    {
     "data": {
      "text/html": [
       "<div>\n",
       "<style scoped>\n",
       "    .dataframe tbody tr th:only-of-type {\n",
       "        vertical-align: middle;\n",
       "    }\n",
       "\n",
       "    .dataframe tbody tr th {\n",
       "        vertical-align: top;\n",
       "    }\n",
       "\n",
       "    .dataframe thead th {\n",
       "        text-align: right;\n",
       "    }\n",
       "</style>\n",
       "<table border=\"1\" class=\"dataframe\">\n",
       "  <thead>\n",
       "    <tr style=\"text-align: right;\">\n",
       "      <th></th>\n",
       "      <th>Actual</th>\n",
       "      <th>Predicted</th>\n",
       "    </tr>\n",
       "  </thead>\n",
       "  <tbody>\n",
       "    <tr>\n",
       "      <th>2928456</th>\n",
       "      <td>Substantial Resale Premium</td>\n",
       "      <td>Substantial Resale Premium</td>\n",
       "    </tr>\n",
       "    <tr>\n",
       "      <th>590253</th>\n",
       "      <td>Discounted Resale</td>\n",
       "      <td>Discounted Resale</td>\n",
       "    </tr>\n",
       "    <tr>\n",
       "      <th>4954115</th>\n",
       "      <td>Exceptional Resale Premium</td>\n",
       "      <td>Exceptional Resale Premium</td>\n",
       "    </tr>\n",
       "    <tr>\n",
       "      <th>4529399</th>\n",
       "      <td>Mild Resale Premium</td>\n",
       "      <td>Mild Resale Premium</td>\n",
       "    </tr>\n",
       "    <tr>\n",
       "      <th>5558350</th>\n",
       "      <td>Negligible Resale Premium</td>\n",
       "      <td>Negligible Resale Premium</td>\n",
       "    </tr>\n",
       "  </tbody>\n",
       "</table>\n",
       "</div>"
      ],
      "text/plain": [
       "                             Actual                   Predicted\n",
       "2928456  Substantial Resale Premium  Substantial Resale Premium\n",
       "590253            Discounted Resale           Discounted Resale\n",
       "4954115  Exceptional Resale Premium  Exceptional Resale Premium\n",
       "4529399         Mild Resale Premium         Mild Resale Premium\n",
       "5558350   Negligible Resale Premium   Negligible Resale Premium"
      ]
     },
     "execution_count": 80,
     "metadata": {},
     "output_type": "execute_result"
    }
   ],
   "source": [
    "results_df.head()"
   ]
  },
  {
   "cell_type": "code",
   "execution_count": 83,
   "id": "58697a55",
   "metadata": {
    "scrolled": false
   },
   "outputs": [
    {
     "data": {
      "text/plain": [
       "<Figure size 2000x1000 with 0 Axes>"
      ]
     },
     "execution_count": 83,
     "metadata": {},
     "output_type": "execute_result"
    },
    {
     "data": {
      "text/plain": [
       "<Axes: xlabel='Actual', ylabel='Predicted'>"
      ]
     },
     "execution_count": 83,
     "metadata": {},
     "output_type": "execute_result"
    },
    {
     "data": {
      "text/plain": [
       "Text(0.5, 1.0, 'Actual vs. Predicted Sold Price')"
      ]
     },
     "execution_count": 83,
     "metadata": {},
     "output_type": "execute_result"
    },
    {
     "data": {
      "text/plain": [
       "Text(0.5, 0, 'Actual Sold Price')"
      ]
     },
     "execution_count": 83,
     "metadata": {},
     "output_type": "execute_result"
    },
    {
     "data": {
      "text/plain": [
       "Text(0, 0.5, 'Predicted Sold Price')"
      ]
     },
     "execution_count": 83,
     "metadata": {},
     "output_type": "execute_result"
    },
    {
     "data": {
      "image/png": "[encoded data removed]",
      "text/plain": [
       "<Figure size 2000x1000 with 1 Axes>"
      ]
     },
     "metadata": {},
     "output_type": "display_data"
    }
   ],
   "source": [
    "# Plot actual vs. predicted values\n",
    "plt.figure(figsize=(20, 10))\n",
    "sns.scatterplot(data=results_df, x='Actual', y='Predicted')\n",
    "plt.title('Actual vs. Predicted Sold Price')\n",
    "plt.xlabel('Actual Sold Price')\n",
    "plt.ylabel('Predicted Sold Price')\n",
    "plt.show()"
   ]
  },
  {
   "cell_type": "code",
   "execution_count": 84,
   "id": "54ebb5eb",
   "metadata": {},
   "outputs": [
    {
     "data": {
      "text/plain": [
       "(1879632, 23)"
      ]
     },
     "execution_count": 84,
     "metadata": {},
     "output_type": "execute_result"
    },
    {
     "data": {
      "text/html": [
       "<div>\n",
       "<style scoped>\n",
       "    .dataframe tbody tr th:only-of-type {\n",
       "        vertical-align: middle;\n",
       "    }\n",
       "\n",
       "    .dataframe tbody tr th {\n",
       "        vertical-align: top;\n",
       "    }\n",
       "\n",
       "    .dataframe thead th {\n",
       "        text-align: right;\n",
       "    }\n",
       "</style>\n",
       "<table border=\"1\" class=\"dataframe\">\n",
       "  <thead>\n",
       "    <tr style=\"text-align: right;\">\n",
       "      <th></th>\n",
       "      <th>sku</th>\n",
       "      <th>condition</th>\n",
       "      <th>size</th>\n",
       "      <th>gender</th>\n",
       "      <th>sold_at</th>\n",
       "      <th>sold_price</th>\n",
       "      <th>source</th>\n",
       "      <th>size_value</th>\n",
       "      <th>brand</th>\n",
       "      <th>name</th>\n",
       "      <th>colorway</th>\n",
       "      <th>color</th>\n",
       "      <th>silhouette</th>\n",
       "      <th>retailprice</th>\n",
       "      <th>releasedate</th>\n",
       "      <th>is_collab</th>\n",
       "      <th>collaborator</th>\n",
       "      <th>quarter</th>\n",
       "      <th>average_sold_price</th>\n",
       "      <th>sku_count</th>\n",
       "      <th>percentage_difference</th>\n",
       "      <th>Actual</th>\n",
       "      <th>Predicted</th>\n",
       "    </tr>\n",
       "  </thead>\n",
       "  <tbody>\n",
       "    <tr>\n",
       "      <th>0</th>\n",
       "      <td>DD1391-600</td>\n",
       "      <td>is_new</td>\n",
       "      <td>6.5</td>\n",
       "      <td>men</td>\n",
       "      <td>2021-11-01</td>\n",
       "      <td>183.0</td>\n",
       "      <td>stockx</td>\n",
       "      <td>6.5</td>\n",
       "      <td>Nike</td>\n",
       "      <td>Nike Dunk Low Championship Red (2021)</td>\n",
       "      <td>University Red/White-Total Orange</td>\n",
       "      <td>red</td>\n",
       "      <td>Dunk</td>\n",
       "      <td>100.0</td>\n",
       "      <td>2021-09-28</td>\n",
       "      <td>False</td>\n",
       "      <td>NaN</td>\n",
       "      <td>4.0</td>\n",
       "      <td>190.535912</td>\n",
       "      <td>66.0</td>\n",
       "      <td>90.535912</td>\n",
       "      <td>Substantial Resale Premium</td>\n",
       "      <td>Substantial Resale Premium</td>\n",
       "    </tr>\n",
       "    <tr>\n",
       "      <th>1</th>\n",
       "      <td>DA8736-101</td>\n",
       "      <td>is_new</td>\n",
       "      <td>7.5W</td>\n",
       "      <td>women</td>\n",
       "      <td>2021-08-09</td>\n",
       "      <td>93.0</td>\n",
       "      <td>stockx</td>\n",
       "      <td>7.5</td>\n",
       "      <td>Nike</td>\n",
       "      <td>Nike Blazer Mid Leopard (Women's)</td>\n",
       "      <td>White/White-Leopard</td>\n",
       "      <td>white</td>\n",
       "      <td>Blazer</td>\n",
       "      <td>100.0</td>\n",
       "      <td>2021-02-11</td>\n",
       "      <td>False</td>\n",
       "      <td>NaN</td>\n",
       "      <td>3.0</td>\n",
       "      <td>77.980000</td>\n",
       "      <td>146.0</td>\n",
       "      <td>-22.020000</td>\n",
       "      <td>NaN</td>\n",
       "      <td>NaN</td>\n",
       "    </tr>\n",
       "    <tr>\n",
       "      <th>2</th>\n",
       "      <td>DD3235-100</td>\n",
       "      <td>is_new</td>\n",
       "      <td>6.5Y</td>\n",
       "      <td>child</td>\n",
       "      <td>2021-06-06</td>\n",
       "      <td>244.0</td>\n",
       "      <td>stockx</td>\n",
       "      <td>6.5</td>\n",
       "      <td>Jordan</td>\n",
       "      <td>Jordan 1 Mid Grey Camo (GS)</td>\n",
       "      <td>White/Photon Dust-Grey-Fog</td>\n",
       "      <td>grey</td>\n",
       "      <td>Air Jordan 1</td>\n",
       "      <td>105.0</td>\n",
       "      <td>2020-09-02</td>\n",
       "      <td>False</td>\n",
       "      <td>NaN</td>\n",
       "      <td>2.0</td>\n",
       "      <td>267.122807</td>\n",
       "      <td>625.0</td>\n",
       "      <td>154.402673</td>\n",
       "      <td>NaN</td>\n",
       "      <td>NaN</td>\n",
       "    </tr>\n",
       "    <tr>\n",
       "      <th>3</th>\n",
       "      <td>CU6015-700</td>\n",
       "      <td>is_new</td>\n",
       "      <td>4</td>\n",
       "      <td>men</td>\n",
       "      <td>2021-10-02</td>\n",
       "      <td>303.0</td>\n",
       "      <td>stockx</td>\n",
       "      <td>4.0</td>\n",
       "      <td>Nike</td>\n",
       "      <td>Nike Air Rubber Dunk Off-White University Gold</td>\n",
       "      <td>University Gold/University Gold-Black</td>\n",
       "      <td>yellow</td>\n",
       "      <td>Air Rubber Dunk</td>\n",
       "      <td>180.0</td>\n",
       "      <td>2020-10-01</td>\n",
       "      <td>False</td>\n",
       "      <td>NaN</td>\n",
       "      <td>4.0</td>\n",
       "      <td>261.625000</td>\n",
       "      <td>100.0</td>\n",
       "      <td>45.347222</td>\n",
       "      <td>NaN</td>\n",
       "      <td>NaN</td>\n",
       "    </tr>\n",
       "    <tr>\n",
       "      <th>4</th>\n",
       "      <td>CU1816-100</td>\n",
       "      <td>is_new</td>\n",
       "      <td>7.5</td>\n",
       "      <td>men</td>\n",
       "      <td>2021-04-28</td>\n",
       "      <td>157.0</td>\n",
       "      <td>stockx</td>\n",
       "      <td>7.5</td>\n",
       "      <td>Nike</td>\n",
       "      <td>Nike Air Max 90 NRG Bacon (2021)</td>\n",
       "      <td>Sail-Sheen-Straw-Medium Brown</td>\n",
       "      <td>brown</td>\n",
       "      <td>Air Max 90</td>\n",
       "      <td>140.0</td>\n",
       "      <td>2021-03-26</td>\n",
       "      <td>False</td>\n",
       "      <td>NaN</td>\n",
       "      <td>2.0</td>\n",
       "      <td>166.923767</td>\n",
       "      <td>201.0</td>\n",
       "      <td>19.231262</td>\n",
       "      <td>NaN</td>\n",
       "      <td>NaN</td>\n",
       "    </tr>\n",
       "  </tbody>\n",
       "</table>\n",
       "</div>"
      ],
      "text/plain": [
       "          sku condition  size gender    sold_at  sold_price  source  size_value   brand                                            name                               colorway   color       silhouette  retailprice releasedate is_collab collaborator  quarter  average_sold_price  sku_count  percentage_difference                      Actual                   Predicted\n",
       "0  DD1391-600    is_new   6.5    men 2021-11-01       183.0  stockx         6.5    Nike           Nike Dunk Low Championship Red (2021)      University Red/White-Total Orange     red             Dunk        100.0  2021-09-28     False          NaN      4.0          190.535912       66.0              90.535912  Substantial Resale Premium  Substantial Resale Premium\n",
       "1  DA8736-101    is_new  7.5W  women 2021-08-09        93.0  stockx         7.5    Nike               Nike Blazer Mid Leopard (Women's)                    White/White-Leopard   white           Blazer        100.0  2021-02-11     False          NaN      3.0           77.980000      146.0             -22.020000                         NaN                         NaN\n",
       "2  DD3235-100    is_new  6.5Y  child 2021-06-06       244.0  stockx         6.5  Jordan                     Jordan 1 Mid Grey Camo (GS)             White/Photon Dust-Grey-Fog    grey     Air Jordan 1        105.0  2020-09-02     False          NaN      2.0          267.122807      625.0             154.402673                         NaN                         NaN\n",
       "3  CU6015-700    is_new     4    men 2021-10-02       303.0  stockx         4.0    Nike  Nike Air Rubber Dunk Off-White University Gold  University Gold/University Gold-Black  yellow  Air Rubber Dunk        180.0  2020-10-01     False          NaN      4.0          261.625000      100.0              45.347222                         NaN                         NaN\n",
       "4  CU1816-100    is_new   7.5    men 2021-04-28       157.0  stockx         7.5    Nike                Nike Air Max 90 NRG Bacon (2021)          Sail-Sheen-Straw-Medium Brown   brown       Air Max 90        140.0  2021-03-26     False          NaN      2.0          166.923767      201.0              19.231262                         NaN                         NaN"
      ]
     },
     "execution_count": 84,
     "metadata": {},
     "output_type": "execute_result"
    }
   ],
   "source": [
    "# Create a DataFrame containing the actual and predicted values for soldprice\n",
    "results_df_1 = pd.DataFrame({'Actual': y_test, 'Predicted': y_pred})\n",
    "\n",
    "# Add columns from the test dataset to the results DataFrame\n",
    "results_df_1 = pd.concat([X_test.reset_index(drop=True), results_df], axis=1)\n",
    "\n",
    "results_df_1.shape\n",
    "results_df_1.head()"
   ]
  },
  {
   "cell_type": "code",
   "execution_count": 93,
   "id": "f2835c6c",
   "metadata": {},
   "outputs": [],
   "source": [
    "columns_to_consider = ['Actual']\n",
    "results_clean = results_df_1.dropna(subset='Actual')"
   ]
  },
  {
   "cell_type": "code",
   "execution_count": 94,
   "id": "65cf6157",
   "metadata": {},
   "outputs": [
    {
     "data": {
      "text/plain": [
       "(1025020, 23)"
      ]
     },
     "execution_count": 94,
     "metadata": {},
     "output_type": "execute_result"
    },
    {
     "data": {
      "text/html": [
       "<div>\n",
       "<style scoped>\n",
       "    .dataframe tbody tr th:only-of-type {\n",
       "        vertical-align: middle;\n",
       "    }\n",
       "\n",
       "    .dataframe tbody tr th {\n",
       "        vertical-align: top;\n",
       "    }\n",
       "\n",
       "    .dataframe thead th {\n",
       "        text-align: right;\n",
       "    }\n",
       "</style>\n",
       "<table border=\"1\" class=\"dataframe\">\n",
       "  <thead>\n",
       "    <tr style=\"text-align: right;\">\n",
       "      <th></th>\n",
       "      <th>sku</th>\n",
       "      <th>condition</th>\n",
       "      <th>size</th>\n",
       "      <th>gender</th>\n",
       "      <th>sold_at</th>\n",
       "      <th>sold_price</th>\n",
       "      <th>source</th>\n",
       "      <th>size_value</th>\n",
       "      <th>brand</th>\n",
       "      <th>name</th>\n",
       "      <th>colorway</th>\n",
       "      <th>color</th>\n",
       "      <th>silhouette</th>\n",
       "      <th>retailprice</th>\n",
       "      <th>releasedate</th>\n",
       "      <th>is_collab</th>\n",
       "      <th>collaborator</th>\n",
       "      <th>quarter</th>\n",
       "      <th>average_sold_price</th>\n",
       "      <th>sku_count</th>\n",
       "      <th>percentage_difference</th>\n",
       "      <th>Actual</th>\n",
       "      <th>Predicted</th>\n",
       "    </tr>\n",
       "  </thead>\n",
       "  <tbody>\n",
       "    <tr>\n",
       "      <th>0</th>\n",
       "      <td>DD1391-600</td>\n",
       "      <td>is_new</td>\n",
       "      <td>6.5</td>\n",
       "      <td>men</td>\n",
       "      <td>2021-11-01</td>\n",
       "      <td>183.0</td>\n",
       "      <td>stockx</td>\n",
       "      <td>6.5</td>\n",
       "      <td>Nike</td>\n",
       "      <td>Nike Dunk Low Championship Red (2021)</td>\n",
       "      <td>University Red/White-Total Orange</td>\n",
       "      <td>red</td>\n",
       "      <td>Dunk</td>\n",
       "      <td>100.0</td>\n",
       "      <td>2021-09-28</td>\n",
       "      <td>False</td>\n",
       "      <td>NaN</td>\n",
       "      <td>4.0</td>\n",
       "      <td>190.535912</td>\n",
       "      <td>66.0</td>\n",
       "      <td>90.535912</td>\n",
       "      <td>Substantial Resale Premium</td>\n",
       "      <td>Substantial Resale Premium</td>\n",
       "    </tr>\n",
       "    <tr>\n",
       "      <th>10</th>\n",
       "      <td>DJ1199-400</td>\n",
       "      <td>is_new</td>\n",
       "      <td>9W</td>\n",
       "      <td>women</td>\n",
       "      <td>2021-05-27</td>\n",
       "      <td>201.0</td>\n",
       "      <td>stockx</td>\n",
       "      <td>9.0</td>\n",
       "      <td>Jordan</td>\n",
       "      <td>Jordan 1 High Zoom Air CMFT Aleali May Califia...</td>\n",
       "      <td>Royal/Green</td>\n",
       "      <td>blue</td>\n",
       "      <td>Air Jordan 1 Zoom</td>\n",
       "      <td>140.0</td>\n",
       "      <td>2021-04-26</td>\n",
       "      <td>False</td>\n",
       "      <td>NaN</td>\n",
       "      <td>2.0</td>\n",
       "      <td>216.511765</td>\n",
       "      <td>60.0</td>\n",
       "      <td>54.651261</td>\n",
       "      <td>Discounted Resale</td>\n",
       "      <td>Discounted Resale</td>\n",
       "    </tr>\n",
       "    <tr>\n",
       "      <th>16</th>\n",
       "      <td>H05790</td>\n",
       "      <td>is_new</td>\n",
       "      <td>10</td>\n",
       "      <td>men</td>\n",
       "      <td>2021-06-01</td>\n",
       "      <td>144.0</td>\n",
       "      <td>stockx</td>\n",
       "      <td>10.0</td>\n",
       "      <td>adidas</td>\n",
       "      <td>adidas ZX 1000 The Simpsons Flaming Moes</td>\n",
       "      <td>Purple/Orange/Red</td>\n",
       "      <td>white</td>\n",
       "      <td>ZX 1000</td>\n",
       "      <td>120.0</td>\n",
       "      <td>2021-05-12</td>\n",
       "      <td>False</td>\n",
       "      <td>NaN</td>\n",
       "      <td>2.0</td>\n",
       "      <td>147.945205</td>\n",
       "      <td>25.0</td>\n",
       "      <td>23.287671</td>\n",
       "      <td>Discounted Resale</td>\n",
       "      <td>Discounted Resale</td>\n",
       "    </tr>\n",
       "    <tr>\n",
       "      <th>17</th>\n",
       "      <td>CD2451-001</td>\n",
       "      <td>is_new</td>\n",
       "      <td>12.5</td>\n",
       "      <td>men</td>\n",
       "      <td>2021-02-09</td>\n",
       "      <td>148.0</td>\n",
       "      <td>stockx</td>\n",
       "      <td>12.5</td>\n",
       "      <td>Nike</td>\n",
       "      <td>Nike LeBron 16 Glow</td>\n",
       "      <td>Black/Black-Glow</td>\n",
       "      <td>black</td>\n",
       "      <td>LeBron 16</td>\n",
       "      <td>200.0</td>\n",
       "      <td>2019-05-17</td>\n",
       "      <td>False</td>\n",
       "      <td>NaN</td>\n",
       "      <td>1.0</td>\n",
       "      <td>148.500000</td>\n",
       "      <td>16.0</td>\n",
       "      <td>-25.750000</td>\n",
       "      <td>Substantial Resale Premium</td>\n",
       "      <td>Substantial Resale Premium</td>\n",
       "    </tr>\n",
       "    <tr>\n",
       "      <th>18</th>\n",
       "      <td>BQ6472-015</td>\n",
       "      <td>is_new</td>\n",
       "      <td>8.5W</td>\n",
       "      <td>women</td>\n",
       "      <td>2021-10-08</td>\n",
       "      <td>158.0</td>\n",
       "      <td>stockx</td>\n",
       "      <td>8.5</td>\n",
       "      <td>Jordan</td>\n",
       "      <td>Jordan 1 Mid Light Smoke Grey (Women's)</td>\n",
       "      <td>White/Light Smoke Grey</td>\n",
       "      <td>white</td>\n",
       "      <td>Air Jordan 1</td>\n",
       "      <td>120.0</td>\n",
       "      <td>2021-10-11</td>\n",
       "      <td>False</td>\n",
       "      <td>NaN</td>\n",
       "      <td>4.0</td>\n",
       "      <td>213.977394</td>\n",
       "      <td>30.0</td>\n",
       "      <td>78.314495</td>\n",
       "      <td>Discounted Resale</td>\n",
       "      <td>Discounted Resale</td>\n",
       "    </tr>\n",
       "  </tbody>\n",
       "</table>\n",
       "</div>"
      ],
      "text/plain": [
       "           sku condition  size gender    sold_at  sold_price  source  size_value   brand                                               name                           colorway  color         silhouette  retailprice releasedate is_collab collaborator  quarter  average_sold_price  sku_count  percentage_difference                      Actual                   Predicted\n",
       "0   DD1391-600    is_new   6.5    men 2021-11-01       183.0  stockx         6.5    Nike              Nike Dunk Low Championship Red (2021)  University Red/White-Total Orange    red               Dunk        100.0  2021-09-28     False          NaN      4.0          190.535912       66.0              90.535912  Substantial Resale Premium  Substantial Resale Premium\n",
       "10  DJ1199-400    is_new    9W  women 2021-05-27       201.0  stockx         9.0  Jordan  Jordan 1 High Zoom Air CMFT Aleali May Califia...                        Royal/Green   blue  Air Jordan 1 Zoom        140.0  2021-04-26     False          NaN      2.0          216.511765       60.0              54.651261           Discounted Resale           Discounted Resale\n",
       "16      H05790    is_new    10    men 2021-06-01       144.0  stockx        10.0  adidas           adidas ZX 1000 The Simpsons Flaming Moes                  Purple/Orange/Red  white            ZX 1000        120.0  2021-05-12     False          NaN      2.0          147.945205       25.0              23.287671           Discounted Resale           Discounted Resale\n",
       "17  CD2451-001    is_new  12.5    men 2021-02-09       148.0  stockx        12.5    Nike                                Nike LeBron 16 Glow                   Black/Black-Glow  black          LeBron 16        200.0  2019-05-17     False          NaN      1.0          148.500000       16.0             -25.750000  Substantial Resale Premium  Substantial Resale Premium\n",
       "18  BQ6472-015    is_new  8.5W  women 2021-10-08       158.0  stockx         8.5  Jordan            Jordan 1 Mid Light Smoke Grey (Women's)             White/Light Smoke Grey  white       Air Jordan 1        120.0  2021-10-11     False          NaN      4.0          213.977394       30.0              78.314495           Discounted Resale           Discounted Resale"
      ]
     },
     "execution_count": 94,
     "metadata": {},
     "output_type": "execute_result"
    }
   ],
   "source": [
    "results_clean.shape\n",
    "results_clean.head()"
   ]
  },
  {
   "cell_type": "code",
   "execution_count": 92,
   "id": "0f62367b",
   "metadata": {},
   "outputs": [
    {
     "data": {
      "text/plain": [
       "1046183"
      ]
     },
     "execution_count": 92,
     "metadata": {},
     "output_type": "execute_result"
    }
   ],
   "source": [
    "df['resale_flag'].isnull().values.sum()"
   ]
  }
 ],
 "metadata": {
  "kernelspec": {
   "display_name": "Python 3 (ipykernel)",
   "language": "python",
   "name": "python3"
  },
  "language_info": {
   "codemirror_mode": {
    "name": "ipython",
    "version": 3
   },
   "file_extension": ".py",
   "mimetype": "text/x-python",
   "name": "python",
   "nbconvert_exporter": "python",
   "pygments_lexer": "ipython3",
   "version": "3.11.5"
  }
 },
 "nbformat": 4,
 "nbformat_minor": 5
}
